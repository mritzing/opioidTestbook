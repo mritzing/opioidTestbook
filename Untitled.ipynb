{
 "cells": [
  {
   "cell_type": "markdown",
   "metadata": {},
   "source": [
    "#Opioid Data Jupyter Test Book\n",
    "Loading in CSV data and making a basic graph with matplotlib"
   ]
  },
  {
   "cell_type": "code",
   "execution_count": 3,
   "metadata": {},
   "outputs": [
    {
     "name": "stdout",
     "output_type": "stream",
     "text": [
      "(1494, 11)\n",
      "       Measure County Cleaned  County Code                   County  \\\n",
      "667  18.415706   St. Francois        29187  St. Francois County, MO   \n",
      "683   8.681510     Silver Bow        30093    Silver Bow County, MT   \n",
      "473   1.897392          Caddo        22017         Caddo Parish, LA   \n",
      "\n",
      "     Crude Rate  Deaths per 100,000  Deaths  Number of Records  Population  \\\n",
      "667        18.4           18.415706      61                  1      331239   \n",
      "683         NaN            8.681510      15                  1      172781   \n",
      "473         1.9            1.897392      24                  1     1264894   \n",
      "\n",
      "     State Code      State  \n",
      "667          29   Missouri  \n",
      "683          30    Montana  \n",
      "473          22  Louisiana  \n"
     ]
    }
   ],
   "source": [
    "%matplotlib inline\n",
    "import pandas as pd\n",
    "import os\n",
    "import matplotlib.pyplot as plt\n",
    "#read CSV to pandas dataframe http://pandas.pydata.org/pandas-docs/version/0.23.4/generated/pandas.DataFrame.html\n",
    "#print shape (length/width) and sample points to see it was read in correctly\n",
    "df = pd.read_csv('Sheet1 (State, County 2012-2016 Cleaned).csv',header = 0)\n",
    "print (df.shape)\n",
    "print (df.sample(3))"
   ]
  },
  {
   "cell_type": "markdown",
   "metadata": {},
   "source": [
    "##Making a bar graph with matplotlib\n",
    "http://queirozf.com/entries/pandas-dataframe-plot-examples-with-matplotlib-pyplot\n",
    "Using groupby to sum the states together and ['Deaths per 100,000'] as the value that is being displayed\n",
    "\n",
    "Only printing top 5 states, so need to sort data and then take the top (head) values\n",
    "https://stackoverflow.com/questions/48162201/pandas-number-of-unique-values-and-sort-by-the-number-of-unique"
   ]
  },
  {
   "cell_type": "code",
   "execution_count": 11,
   "metadata": {},
   "outputs": [
    {
     "data": {
      "text/plain": [
       "<matplotlib.axes._subplots.AxesSubplot at 0x16c1c5f3470>"
      ]
     },
     "execution_count": 11,
     "metadata": {},
     "output_type": "execute_result"
    },
    {
     "data": {
      "image/png": "[encoded data removed]",
      "text/plain": [
       "<Figure size 432x288 with 1 Axes>"
      ]
     },
     "metadata": {
      "needs_background": "light"
     },
     "output_type": "display_data"
    }
   ],
   "source": [
    "df.groupby('State')['Deaths per 100,000'].nunique().sort_values(ascending=False).head(5).plot(kind='bar')"
   ]
  }
 ],
 "metadata": {
  "kernelspec": {
   "display_name": "Python 3",
   "language": "python",
   "name": "python3"
  },
  "language_info": {
   "codemirror_mode": {
    "name": "ipython",
    "version": 3
   },
   "file_extension": ".py",
   "mimetype": "text/x-python",
   "name": "python",
   "nbconvert_exporter": "python",
   "pygments_lexer": "ipython3",
   "version": "3.7.0"
  }
 },
 "nbformat": 4,
 "nbformat_minor": 2
}
